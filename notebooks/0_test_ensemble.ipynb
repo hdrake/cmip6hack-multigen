{
 "cells": [
  {
   "cell_type": "markdown",
   "metadata": {},
   "source": [
    "# Step 1: Pre-processing model and reanalsyis data\n",
    "\n",
    "---\n",
    "\n",
    "## Instructions for activating the Jupyter kernel for the `cmip6hack-multigen` conda environment\n",
    "\n",
    "In a Jupyterlab terminal, navigate to the `/cmip6hack-multigen/` folder and run the command:\n",
    "```bash\n",
    "source spinup_env.sh\n",
    "```\n",
    "which will create the `cmip6hack-multigen` conda environment and install it as a python kernel for jupyter.\n",
    "\n",
    "Then, switch the kernel (drop-down menu in the top right hand corner) to cmip6hack-multigen and restart the notebook.\n",
    "\n",
    "### Pre-process climate model output in GCS\n",
    "\n",
    "This notebook uses [`intake-esm`](https://intake-esm.readthedocs.io/en/latest/) to ingest and organize climate model output from various model generations and resave their time-mean fields locally."
   ]
  },
  {
   "cell_type": "code",
   "execution_count": 4,
   "metadata": {},
   "outputs": [
    {
     "name": "stdout",
     "output_type": "stream",
     "text": [
      "The autoreload extension is already loaded. To reload it, use:\n",
      "  %reload_ext autoreload\n"
     ]
    }
   ],
   "source": [
    "%load_ext autoreload\n",
    "%autoreload 2"
   ]
  },
  {
   "cell_type": "code",
   "execution_count": 22,
   "metadata": {},
   "outputs": [],
   "source": [
    "import os\n",
    "import sys\n",
    "import numpy as np\n",
    "import pandas as pd\n",
    "import xarray as xr\n",
    "import xskillscore as xs\n",
    "import xesmf as xe\n",
    "from tqdm.autonotebook import tqdm  # Fancy progress bars for our loops!\n",
    "import intake\n",
    "# util.py is in the local directory\n",
    "# it contains code that is common across project notebooks\n",
    "# or routines that are too extensive and might otherwise clutter\n",
    "# the notebook design\n",
    "import util\n",
    "import preprocess as pp\n",
    "import qc"
   ]
  },
  {
   "cell_type": "code",
   "execution_count": 23,
   "metadata": {},
   "outputs": [],
   "source": [
    "varnames = ['tas', 'pr', 'psl']\n",
    "timeslice = slice('1981', '2010')\n",
    "coarsen_size = 2"
   ]
  },
  {
   "cell_type": "code",
   "execution_count": 24,
   "metadata": {},
   "outputs": [],
   "source": [
    "col_dict = pp.get_ipcc_collection()"
   ]
  },
  {
   "cell_type": "code",
   "execution_count": null,
   "metadata": {},
   "outputs": [
    {
     "data": {
      "application/vnd.jupyter.widget-view+json": {
       "model_id": "06e0b24592e14861aae276f377d88a40",
       "version_major": 2,
       "version_minor": 0
      },
      "text/plain": [
       "HBox(children=(FloatProgress(value=0.0, max=6.0), HTML(value='')))"
      ]
     },
     "metadata": {},
     "output_type": "display_data"
    },
    {
     "name": "stdout",
     "output_type": "stream",
     "text": [
      "Loaded: variable_id ` tas ` from activity_id ` far `\n",
      "Loaded: variable_id ` pr ` from activity_id ` far `\n",
      "Loaded: variable_id ` psl ` from activity_id ` far `\n",
      "Loaded: variable_id ` tas ` from activity_id ` sar `\n",
      "Loaded: variable_id ` pr ` from activity_id ` sar `\n",
      "Loaded: variable_id ` psl ` from activity_id ` sar `\n",
      "Loaded: variable_id ` tas ` from activity_id ` tar `\n",
      "Skip TAR.MPIfM.MPIfM.historical.r1i1p1f1.Amon.tas.gn before datetime conflict.\n",
      "Loaded: variable_id ` pr ` from activity_id ` tar `\n",
      "Skip TAR.MPIfM.MPIfM.historical.r1i1p1f1.Amon.pr.gn before datetime conflict.\n",
      "Loaded: variable_id ` psl ` from activity_id ` tar `\n",
      "Skip TAR.MPIfM.MPIfM.historical.r1i1p1f1.Amon.psl.gn before datetime conflict.\n",
      "Loaded: variable_id ` tas ` from activity_id ` cmip3 `\n",
      "Skip CMIP3.CSIRO-QCCCE.csiro_mk3_5.historical.r1i1p1f1.Amon.tas.gn before datetime conflict.\n",
      "Loaded: variable_id ` pr ` from activity_id ` cmip3 `\n",
      "Skip CMIP3.CSIRO-QCCCE.csiro_mk3_5.historical.r1i1p1f1.Amon.pr.gn before datetime conflict.\n",
      "Loaded: variable_id ` psl ` from activity_id ` cmip3 `\n",
      "Loaded: variable_id ` tas ` from activity_id ` cmip5 `\n"
     ]
    }
   ],
   "source": [
    "ds_dict = {}\n",
    "for mip_id, col in tqdm(col_dict.items()):\n",
    "    ds_dict[mip_id] = {}\n",
    "    for varname in varnames:\n",
    "        print(\"Loaded: variable_id `\", varname, \"` from activity_id `\",mip_id,\"`\")\n",
    "        cat = col.search(\n",
    "            experiment_id='historical',\n",
    "            variable_id=varname,\n",
    "            table_id='Amon'\n",
    "        )\n",
    "\n",
    "        if cat.df.size == 0: continue\n",
    "\n",
    "        with util.HiddenPrints():\n",
    "            dset_dict = cat.to_dataset_dict(\n",
    "                aggregate=False,\n",
    "                zarr_kwargs={'consolidated': True, 'decode_times': False}\n",
    "            )\n",
    "\n",
    "        ds_dict[mip_id][varname] = {}\n",
    "        for key, ds in dset_dict.items():\n",
    "            # rename spatial dimensions if necessary\n",
    "            if ('longitude' in ds.dims) and ('latitude' in ds.dims):\n",
    "                ds = ds.rename({'longitude':'lon', 'latitude': 'lat'})\n",
    "\n",
    "            # Need this temporarily because setting 'decode_times': True is broken\n",
    "            ds = xr.decode_cf(ds)\n",
    "            ds['time'] = ds['time'].astype('<M8[ns]')\n",
    "            ds['time'].values = np.array(\n",
    "                pd.to_datetime(\n",
    "                    util.vec_dt_replace(pd.Series(ds['time'].values), day=1.)\n",
    "                )\n",
    "            )\n",
    "\n",
    "            repeats = len(ds['time']) - len(np.unique(ds['time']))\n",
    "            if repeats != 0:\n",
    "                print(f\"Skip {key} before datetime conflict.\")\n",
    "                continue\n",
    "\n",
    "            ds = ds.squeeze() # get rid of member_id (for now)\n",
    "\n",
    "            chunks = {'lat':ds['lat'].size, 'lon':ds['lon'].size, 'time':30}\n",
    "            ds = ds.chunk(chunks)\n",
    "\n",
    "            if timeslice is not None:\n",
    "                ds = ds.sel(time=timeslice)\n",
    "\n",
    "            with util.HiddenPrints():\n",
    "                try:\n",
    "                    ds_new = util.regrid_to_common(ds[varname])\n",
    "                except:\n",
    "                    print(f\"Skip {key} due to regridding conflict.\")\n",
    "                    continue\n",
    "\n",
    "            ds_new.attrs.update(ds.attrs)\n",
    "            ds_new = qc.quality_control(ds_new, varname, key, mip_id)\n",
    "\n",
    "            ds_new.attrs['name'] = \"-\".join(key.split(\".\")[1:3])\n",
    "\n",
    "            for coord in ds_new.coords:\n",
    "                if coord not in ['lat', 'lon', 'time']:\n",
    "                    ds_new = ds_new.drop(coord)\n",
    "\n",
    "            member_id = key.split(\".\")[4]\n",
    "            ds_new = ds_new.expand_dims(\n",
    "                {'ensemble': np.array([ds_new.attrs['name'] + \"-\" + member_id])}, 0\n",
    "            )\n",
    "            \n",
    "            ds_new = ds_new.assign_coords({\n",
    "                'member_id': member_id,\n",
    "                'source_id': key.split(\".\")[2],\n",
    "                'mip_id': key.split(\".\")[0]\n",
    "            })\n",
    "\n",
    "            ds_new.attrs['mip_id'] = mip_id\n",
    "\n",
    "            coarsen_dict = {'lat': coarsen_size, 'lon': coarsen_size}\n",
    "            ds_new = ds_new.coarsen(coarsen_dict, boundary='exact').mean()\n",
    "\n",
    "            ds_dict[mip_id][varname][key] = ds_new  # add this to the dictionary"
   ]
  },
  {
   "cell_type": "code",
   "execution_count": 15,
   "metadata": {},
   "outputs": [
    {
     "data": {
      "text/html": [
       "<pre>&lt;xarray.DataArray (ensemble: 1, time: 360, lat: 90, lon: 180)&gt;\n",
       "dask.array&lt;mean_agg-aggregate, shape=(1, 360, 90, 180), dtype=float64, chunksize=(1, 30, 90, 180), chunktype=numpy.ndarray&gt;\n",
       "Coordinates:\n",
       "  * ensemble  (ensemble) &lt;U15 &#x27;BCC-BCC-CSM2-MR&#x27;\n",
       "  * time      (time) datetime64[ns] 1981-01-01 1981-02-01 ... 2010-12-01\n",
       "  * lon       (lon) float64 1.0 3.0 5.0 7.0 9.0 ... 353.0 355.0 357.0 359.0\n",
       "  * lat       (lat) float64 -89.0 -87.0 -85.0 -83.0 ... 83.0 85.0 87.0 89.0\n",
       "Attributes:\n",
       "    regrid_method:          bilinear\n",
       "    Conventions:            CF-1.7 CMIP-6.2\n",
       "    activity_id:            CMIP\n",
       "    branch_method:          Standard\n",
       "    branch_time_in_child:   0.0\n",
       "    branch_time_in_parent:  2289.0\n",
       "    cmor_version:           3.3.2\n",
       "    comment:                The model integration starts from the piControl e...\n",
       "    contact:                Dr. Tongwen Wu(twwu@cma.gov.cn)\n",
       "    creation_date:          2018-11-26T05:08:26Z\n",
       "    data_specs_version:     01.00.27\n",
       "    description:            DECK: historical\n",
       "    experiment:             all-forcing simulation of the recent past\n",
       "    experiment_id:          historical\n",
       "    external_variables:     areacella\n",
       "    forcing_index:          1\n",
       "    frequency:              mon\n",
       "    further_info_url:       https://furtherinfo.es-doc.org/CMIP6.BCC.BCC-CSM2...\n",
       "    grid:                   T106\n",
       "    grid_label:             gn\n",
       "    history:                2018-11-26T05:08:26Z ; CMOR rewrote data to be co...\n",
       "    initialization_index:   1\n",
       "    institution:            Beijing Climate Center, Beijing 100081, China\n",
       "    institution_id:         BCC\n",
       "    license:                CMIP6 model data produced by BCC is licensed unde...\n",
       "    mip_era:                CMIP6\n",
       "    nominal_resolution:     100 km\n",
       "    parent_activity_id:     CMIP\n",
       "    parent_experiment_id:   piControl\n",
       "    parent_mip_era:         CMIP6\n",
       "    parent_source_id:       BCC-CSM2-MR\n",
       "    parent_time_units:      days since 1850-01-01\n",
       "    parent_variant_label:   r1i1p1f1\n",
       "    physics_index:          1\n",
       "    product:                model-output\n",
       "    realization_index:      1\n",
       "    realm:                  atmos\n",
       "    references:             Model described by Tongwen Wu et al. (JGR 2013; J...\n",
       "    run_variant:            forcing: greenhouse gases,solar constant,aerosol,...\n",
       "    source:                 BCC-CSM 2 MR (2017):   aerosol: none  atmos: BCC_...\n",
       "    source_id:              BCC-CSM2-MR\n",
       "    source_type:            AOGCM\n",
       "    sub_experiment:         none\n",
       "    sub_experiment_id:      none\n",
       "    table_id:               Amon\n",
       "    table_info:             Creation Date:(30 July 2018) MD5:e53ff52009d0b97d...\n",
       "    title:                  BCC-CSM2-MR output prepared for CMIP6\n",
       "    tracking_id:            hdl:21.14100/007da5e5-12bb-4fe9-8df9-5cd473280650\n",
       "    variable_id:            tas\n",
       "    variant_label:          r1i1p1f1\n",
       "    status:                 2019-10-25;created;by nhn2@columbia.edu\n",
       "    intake_esm_varname:     None\n",
       "    name:                   BCC-BCC-CSM2-MR\n",
       "    mip_id:                 cmip6</pre>"
      ],
      "text/plain": [
       "<xarray.DataArray (ensemble: 1, time: 360, lat: 90, lon: 180)>\n",
       "dask.array<mean_agg-aggregate, shape=(1, 360, 90, 180), dtype=float64, chunksize=(1, 30, 90, 180), chunktype=numpy.ndarray>\n",
       "Coordinates:\n",
       "  * ensemble  (ensemble) <U15 'BCC-BCC-CSM2-MR'\n",
       "  * time      (time) datetime64[ns] 1981-01-01 1981-02-01 ... 2010-12-01\n",
       "  * lon       (lon) float64 1.0 3.0 5.0 7.0 9.0 ... 353.0 355.0 357.0 359.0\n",
       "  * lat       (lat) float64 -89.0 -87.0 -85.0 -83.0 ... 83.0 85.0 87.0 89.0\n",
       "Attributes:\n",
       "    regrid_method:          bilinear\n",
       "    Conventions:            CF-1.7 CMIP-6.2\n",
       "    activity_id:            CMIP\n",
       "    branch_method:          Standard\n",
       "    branch_time_in_child:   0.0\n",
       "    branch_time_in_parent:  2289.0\n",
       "    cmor_version:           3.3.2\n",
       "    comment:                The model integration starts from the piControl e...\n",
       "    contact:                Dr. Tongwen Wu(twwu@cma.gov.cn)\n",
       "    creation_date:          2018-11-26T05:08:26Z\n",
       "    data_specs_version:     01.00.27\n",
       "    description:            DECK: historical\n",
       "    experiment:             all-forcing simulation of the recent past\n",
       "    experiment_id:          historical\n",
       "    external_variables:     areacella\n",
       "    forcing_index:          1\n",
       "    frequency:              mon\n",
       "    further_info_url:       https://furtherinfo.es-doc.org/CMIP6.BCC.BCC-CSM2...\n",
       "    grid:                   T106\n",
       "    grid_label:             gn\n",
       "    history:                2018-11-26T05:08:26Z ; CMOR rewrote data to be co...\n",
       "    initialization_index:   1\n",
       "    institution:            Beijing Climate Center, Beijing 100081, China\n",
       "    institution_id:         BCC\n",
       "    license:                CMIP6 model data produced by BCC is licensed unde...\n",
       "    mip_era:                CMIP6\n",
       "    nominal_resolution:     100 km\n",
       "    parent_activity_id:     CMIP\n",
       "    parent_experiment_id:   piControl\n",
       "    parent_mip_era:         CMIP6\n",
       "    parent_source_id:       BCC-CSM2-MR\n",
       "    parent_time_units:      days since 1850-01-01\n",
       "    parent_variant_label:   r1i1p1f1\n",
       "    physics_index:          1\n",
       "    product:                model-output\n",
       "    realization_index:      1\n",
       "    realm:                  atmos\n",
       "    references:             Model described by Tongwen Wu et al. (JGR 2013; J...\n",
       "    run_variant:            forcing: greenhouse gases,solar constant,aerosol,...\n",
       "    source:                 BCC-CSM 2 MR (2017):   aerosol: none  atmos: BCC_...\n",
       "    source_id:              BCC-CSM2-MR\n",
       "    source_type:            AOGCM\n",
       "    sub_experiment:         none\n",
       "    sub_experiment_id:      none\n",
       "    table_id:               Amon\n",
       "    table_info:             Creation Date:(30 July 2018) MD5:e53ff52009d0b97d...\n",
       "    title:                  BCC-CSM2-MR output prepared for CMIP6\n",
       "    tracking_id:            hdl:21.14100/007da5e5-12bb-4fe9-8df9-5cd473280650\n",
       "    variable_id:            tas\n",
       "    variant_label:          r1i1p1f1\n",
       "    status:                 2019-10-25;created;by nhn2@columbia.edu\n",
       "    intake_esm_varname:     None\n",
       "    name:                   BCC-BCC-CSM2-MR\n",
       "    mip_id:                 cmip6"
      ]
     },
     "execution_count": 15,
     "metadata": {},
     "output_type": "execute_result"
    }
   ],
   "source": [
    "ds_dict['cmip6']['tas']['CMIP.BCC.BCC-CSM2-MR.historical.r1i1p1f1.Amon.tas.gn']"
   ]
  },
  {
   "cell_type": "code",
   "execution_count": 4,
   "metadata": {},
   "outputs": [
    {
     "data": {
      "application/vnd.jupyter.widget-view+json": {
       "model_id": "262ecf92bfad4ef19a72e9e865f5b3f1",
       "version_major": 2,
       "version_minor": 0
      },
      "text/plain": [
       "HBox(children=(FloatProgress(value=0.0, max=6.0), HTML(value='')))"
      ]
     },
     "metadata": {},
     "output_type": "display_data"
    },
    {
     "name": "stdout",
     "output_type": "stream",
     "text": [
      "Loaded: variable_id ` tas ` from activity_id ` far `\n",
      "Loaded: variable_id ` pr ` from activity_id ` far `\n",
      "Loaded: variable_id ` psl ` from activity_id ` far `\n",
      "Loaded: variable_id ` tas ` from activity_id ` sar `\n",
      "Loaded: variable_id ` pr ` from activity_id ` sar `\n",
      "Loaded: variable_id ` psl ` from activity_id ` sar `\n",
      "Loaded: variable_id ` tas ` from activity_id ` tar `\n",
      "Skip TAR.MPIfM.MPIfM.historical.Amon.gn before datetime conflict.\n",
      "Loaded: variable_id ` pr ` from activity_id ` tar `\n",
      "Skip TAR.MPIfM.MPIfM.historical.Amon.gn before datetime conflict.\n",
      "Loaded: variable_id ` psl ` from activity_id ` tar `\n",
      "Skip TAR.MPIfM.MPIfM.historical.Amon.gn before datetime conflict.\n",
      "Loaded: variable_id ` tas ` from activity_id ` cmip3 `\n",
      "Skip CMIP3.CSIRO-QCCCE.csiro_mk3_5.historical.Amon.gn before datetime conflict.\n",
      "Loaded: variable_id ` pr ` from activity_id ` cmip3 `\n",
      "Skip CMIP3.CSIRO-QCCCE.csiro_mk3_5.historical.Amon.gn before datetime conflict.\n",
      "Loaded: variable_id ` psl ` from activity_id ` cmip3 `\n",
      "Loaded: variable_id ` tas ` from activity_id ` cmip5 `\n",
      "Loaded: variable_id ` pr ` from activity_id ` cmip5 `\n",
      "Skip CMIP5.ICHEC.EC-EARTH.historical.Amon.gn before datetime conflict.\n",
      "Loaded: variable_id ` psl ` from activity_id ` cmip5 `\n",
      "Loaded: variable_id ` tas ` from activity_id ` cmip6 `\n",
      "Loaded: variable_id ` pr ` from activity_id ` cmip6 `\n",
      "Loaded: variable_id ` psl ` from activity_id ` cmip6 `\n",
      "\n"
     ]
    },
    {
     "name": "stderr",
     "output_type": "stream",
     "text": [
      "/srv/conda/envs/cmip6hack-multigen/lib/python3.7/site-packages/dask/array/core.py:3908: PerformanceWarning: Increasing number of chunks by factor of 34\n",
      "  **blockwise_kwargs,\n"
     ]
    }
   ],
   "source": [
    "ens_dict = pp.load_ensembles(varnames, timeslice=timeslice)"
   ]
  },
  {
   "cell_type": "markdown",
   "metadata": {},
   "source": [
    "#### Extracting time-mean"
   ]
  },
  {
   "cell_type": "code",
   "execution_count": 5,
   "metadata": {},
   "outputs": [
    {
     "data": {
      "application/vnd.jupyter.widget-view+json": {
       "model_id": "22974fae8a9c415c9c0d87ba8e62b209",
       "version_major": 2,
       "version_minor": 0
      },
      "text/plain": [
       "HBox(children=(FloatProgress(value=0.0, max=6.0), HTML(value='')))"
      ]
     },
     "metadata": {},
     "output_type": "display_data"
    },
    {
     "name": "stdout",
     "output_type": "stream",
     "text": [
      "\n"
     ]
    }
   ],
   "source": [
    "ens_dict = util.dict_func(ens_dict, xr.Dataset.mean, on_self=True, dim =['time'], keep_attrs=True)"
   ]
  },
  {
   "cell_type": "code",
   "execution_count": 6,
   "metadata": {},
   "outputs": [
    {
     "data": {
      "application/vnd.jupyter.widget-view+json": {
       "model_id": "713fdce404994271a1f74c7d0da86dcb",
       "version_major": 2,
       "version_minor": 0
      },
      "text/plain": [
       "HBox(children=(FloatProgress(value=0.0, max=6.0), HTML(value='')))"
      ]
     },
     "metadata": {},
     "output_type": "display_data"
    },
    {
     "name": "stderr",
     "output_type": "stream",
     "text": [
      "/srv/conda/envs/cmip6hack-multigen/lib/python3.7/site-packages/dask/array/numpy_compat.py:40: RuntimeWarning: invalid value encountered in true_divide\n",
      "  x = np.divide(x1, x2, out)\n",
      "/srv/conda/envs/cmip6hack-multigen/lib/python3.7/site-packages/dask/array/numpy_compat.py:40: RuntimeWarning: invalid value encountered in true_divide\n",
      "  x = np.divide(x1, x2, out)\n",
      "/srv/conda/envs/cmip6hack-multigen/lib/python3.7/site-packages/dask/array/numpy_compat.py:40: RuntimeWarning: invalid value encountered in true_divide\n",
      "  x = np.divide(x1, x2, out)\n"
     ]
    },
    {
     "name": "stdout",
     "output_type": "stream",
     "text": [
      "\n"
     ]
    }
   ],
   "source": [
    "ens_dict = util.dict_func(ens_dict, xr.Dataset.compute, on_self=True)"
   ]
  },
  {
   "cell_type": "markdown",
   "metadata": {},
   "source": [
    "#### Adding ensemble-mean to the ensemble"
   ]
  },
  {
   "cell_type": "code",
   "execution_count": 7,
   "metadata": {},
   "outputs": [],
   "source": [
    "ens_dict = util.add_ens_mean(ens_dict)"
   ]
  },
  {
   "cell_type": "markdown",
   "metadata": {},
   "source": [
    "### Pre-process observational data products"
   ]
  },
  {
   "cell_type": "code",
   "execution_count": 8,
   "metadata": {},
   "outputs": [],
   "source": [
    "era5 = pp.load_era(\"../data/raw/reanalysis/ERA5_mon_2d.nc\", timeslice=timeslice, coarsen_size=2)"
   ]
  },
  {
   "cell_type": "markdown",
   "metadata": {},
   "source": [
    "### Save interim files"
   ]
  },
  {
   "cell_type": "code",
   "execution_count": 12,
   "metadata": {},
   "outputs": [
    {
     "data": {
      "text/plain": [
       "<xarray.backends.zarr.ZarrStore at 0x7f794f021950>"
      ]
     },
     "execution_count": 12,
     "metadata": {},
     "output_type": "execute_result"
    }
   ],
   "source": [
    "interim_path = \"../data/interim/\"\n",
    "era5.to_zarr(interim_path + \"era5_timemean\", \"w\")"
   ]
  },
  {
   "cell_type": "code",
   "execution_count": 13,
   "metadata": {},
   "outputs": [],
   "source": [
    "for key, ens in ens_dict.items():\n",
    "    ens.to_zarr(interim_path + f\"{key}_timemean\", \"w\")"
   ]
  },
  {
   "cell_type": "code",
   "execution_count": null,
   "metadata": {},
   "outputs": [],
   "source": []
  }
 ],
 "metadata": {
  "kernelspec": {
   "display_name": "cmip6hack-multigen",
   "language": "python",
   "name": "cmip6hack-multigen"
  },
  "language_info": {
   "codemirror_mode": {
    "name": "ipython",
    "version": 3
   },
   "file_extension": ".py",
   "mimetype": "text/x-python",
   "name": "python",
   "nbconvert_exporter": "python",
   "pygments_lexer": "ipython3",
   "version": "3.7.6"
  }
 },
 "nbformat": 4,
 "nbformat_minor": 4
}
