{
 "cells": [
  {
   "cell_type": "markdown",
   "metadata": {},
   "source": [
    "# Step 1: Pre-processing model and reanalsyis data\n",
    "\n",
    "---\n",
    "\n",
    "## Instructions for activating the Jupyter kernel for the `cmip6hack-multigen` conda environment\n",
    "\n",
    "In a Jupyterlab terminal, navigate to the `/cmip6hack-multigen/` folder and run the command:\n",
    "```bash\n",
    "source spinup_env.sh\n",
    "```\n",
    "which will create the `cmip6hack-multigen` conda environment and install it as a python kernel for jupyter.\n",
    "\n",
    "Then, switch the kernel (drop-down menu in the top right hand corner) to cmip6hack-multigen and restart the notebook.\n",
    "\n",
    "### Pre-process climate model output in GCS\n",
    "\n",
    "This notebook uses [`intake-esm`](https://intake-esm.readthedocs.io/en/latest/) to ingest and organize climate model output from various model generations and resave their time-mean fields locally."
   ]
  },
  {
   "cell_type": "code",
   "execution_count": 1,
   "metadata": {},
   "outputs": [],
   "source": [
    "%load_ext autoreload\n",
    "%autoreload 2"
   ]
  },
  {
   "cell_type": "code",
   "execution_count": 2,
   "metadata": {},
   "outputs": [
    {
     "name": "stderr",
     "output_type": "stream",
     "text": [
      "/srv/conda/envs/cmip6hack-multigen/lib/python3.7/site-packages/ipykernel_launcher.py:8: TqdmExperimentalWarning: Using `tqdm.autonotebook.tqdm` in notebook mode. Use `tqdm.tqdm` instead to force console mode (e.g. in jupyter console)\n",
      "  \n"
     ]
    }
   ],
   "source": [
    "import os\n",
    "import sys\n",
    "import numpy as np\n",
    "import pandas as pd\n",
    "import xarray as xr\n",
    "import xskillscore as xs\n",
    "import xesmf as xe\n",
    "from tqdm.autonotebook import tqdm  # Fancy progress bars for our loops!\n",
    "import intake\n",
    "\n",
    "import matplotlib.pyplot as plt\n",
    "\n",
    "# util.py is in the local directory\n",
    "# it contains code that is common across project notebooks\n",
    "# or routines that are too extensive and might otherwise clutter\n",
    "# the notebook design\n",
    "import util\n",
    "import preprocess as pp\n",
    "import qc\n",
    "\n",
    "import warnings"
   ]
  },
  {
   "cell_type": "code",
   "execution_count": 3,
   "metadata": {},
   "outputs": [],
   "source": [
    "varnames = ['tas', 'pr', 'psl']\n",
    "timeslice = slice('1981', '2010')\n",
    "coarsen_size = 2"
   ]
  },
  {
   "cell_type": "code",
   "execution_count": 4,
   "metadata": {},
   "outputs": [],
   "source": [
    "mips = [\"cmip6\"]"
   ]
  },
  {
   "cell_type": "code",
   "execution_count": 5,
   "metadata": {},
   "outputs": [
    {
     "data": {
      "application/vnd.jupyter.widget-view+json": {
       "model_id": "5ea6a9914bae4b9d9afdc274c5318f77",
       "version_major": 2,
       "version_minor": 0
      },
      "text/plain": [
       "HBox(children=(FloatProgress(value=0.0, max=1.0), HTML(value='')))"
      ]
     },
     "metadata": {},
     "output_type": "display_data"
    },
    {
     "name": "stdout",
     "output_type": "stream",
     "text": [
      "Loaded: variable_id ` tas ` from activity_id ` cmip6 `\n",
      "Skip CMIP.MPI-M.MPI-ESM1-2-HR.historical.r1i1p1f1.Amon.tas.gn due to timesclicing error.\n",
      "Loaded: variable_id ` pr ` from activity_id ` cmip6 `\n",
      "Loaded: variable_id ` psl ` from activity_id ` cmip6 `\n",
      "\n"
     ]
    },
    {
     "name": "stderr",
     "output_type": "stream",
     "text": [
      "/srv/conda/envs/cmip6hack-multigen/lib/python3.7/site-packages/dask/array/core.py:3918: PerformanceWarning: Increasing number of chunks by factor of 25\n",
      "  **blockwise_kwargs,\n",
      "/srv/conda/envs/cmip6hack-multigen/lib/python3.7/site-packages/dask/array/core.py:3918: PerformanceWarning: Increasing number of chunks by factor of 13\n",
      "  **blockwise_kwargs,\n"
     ]
    }
   ],
   "source": [
    "ens_dict = {}\n",
    "ens_dict = pp.load_ensembles(varnames, timeslice=timeslice, mip_ids=mips)\n",
    "\n",
    "processed = {}\n",
    "for key in ens_dict.keys():\n",
    "    processed[key] = []"
   ]
  },
  {
   "cell_type": "markdown",
   "metadata": {},
   "source": [
    "#### 1. Extract linear trend"
   ]
  },
  {
   "cell_type": "code",
   "execution_count": 6,
   "metadata": {},
   "outputs": [
    {
     "data": {
      "application/vnd.jupyter.widget-view+json": {
       "model_id": "05e42d262a6a41de9681eb81494c9e50",
       "version_major": 2,
       "version_minor": 0
      },
      "text/plain": [
       "HBox(children=(FloatProgress(value=0.0, max=1.0), HTML(value='')))"
      ]
     },
     "metadata": {},
     "output_type": "display_data"
    },
    {
     "name": "stdout",
     "output_type": "stream",
     "text": [
      "\n"
     ]
    }
   ],
   "source": [
    "with warnings.catch_warnings():\n",
    "    warnings.simplefilter(\"ignore\", category=RuntimeWarning)\n",
    "    for key, ens in tqdm(ens_dict.items()):\n",
    "        ens_dict[key] = ens_dict[key].chunk({'ensemble': 1, 'time': -1, 'lat':10, 'lon':10})\n",
    "        tas_trend = util.compute_slope(ens_dict[key]['tas'])\n",
    "        tas_trend.name = \"tas_trend\"\n",
    "        processed[key].append(tas_trend)"
   ]
  },
  {
   "cell_type": "markdown",
   "metadata": {},
   "source": [
    "#### 2. Extract seasonal climatology"
   ]
  },
  {
   "cell_type": "code",
   "execution_count": null,
   "metadata": {},
   "outputs": [
    {
     "data": {
      "application/vnd.jupyter.widget-view+json": {
       "model_id": "7ddcf93abfb844b2bc325fccb3f0e9e9",
       "version_major": 2,
       "version_minor": 0
      },
      "text/plain": [
       "HBox(children=(FloatProgress(value=0.0, max=1.0), HTML(value='')))"
      ]
     },
     "metadata": {},
     "output_type": "display_data"
    },
    {
     "name": "stderr",
     "output_type": "stream",
     "text": [
      "/srv/conda/envs/cmip6hack-multigen/lib/python3.7/site-packages/xarray/core/indexing.py:1302: PerformanceWarning: Slicing with an out-of-order index is generating 165 times more chunks\n",
      "  return self.array[key]\n"
     ]
    }
   ],
   "source": [
    "anom_dict = {}\n",
    "\n",
    "with warnings.catch_warnings():\n",
    "    warnings.simplefilter(\"ignore\", category=RuntimeWarning)\n",
    "    for key, ens in tqdm(ens_dict.items()):\n",
    "        ens_dict[key] = ens_dict[key].chunk({'ensemble': 1, 'time': 'auto', 'lat':-1, 'lon':-1})\n",
    "        clim, anom, ann = util.compute_derived_variables(ens)\n",
    "        rename_clim = dict([ (dv, dv+\"_clim\") for dv in clim.data_vars])\n",
    "        processed[key].append(clim.rename(rename_clim))\n",
    "        anom_dict[key] = anom"
   ]
  },
  {
   "cell_type": "markdown",
   "metadata": {},
   "source": [
    "#### 3. Extract internal variability (Niño3.4 index)"
   ]
  },
  {
   "cell_type": "code",
   "execution_count": null,
   "metadata": {},
   "outputs": [],
   "source": [
    "enso_dict = {}\n",
    "\n",
    "with warnings.catch_warnings():\n",
    "    warnings.simplefilter(\"ignore\", category=RuntimeWarning)\n",
    "    for key, ens in tqdm(ens_dict.items()):\n",
    "        anom = anom_dict[key]\n",
    "        enso = util.pseudo_enso(anom['tas'])\n",
    "        enso.name = \"enso34\"\n",
    "        processed[key].append(enso)"
   ]
  },
  {
   "cell_type": "markdown",
   "metadata": {},
   "source": [
    "#### 4. Extracting time-mean"
   ]
  },
  {
   "cell_type": "code",
   "execution_count": null,
   "metadata": {},
   "outputs": [],
   "source": [
    "with warnings.catch_warnings():\n",
    "    warnings.simplefilter(\"ignore\", category=RuntimeWarning)\n",
    "    for key, ens in tqdm(ens_dict.items()):\n",
    "        mean = ens.mean(dim=['time'], keep_attrs=True, skipna=True)\n",
    "        rename_mean = dict([ (dv, dv+\"_mean\") for dv in mean.data_vars])\n",
    "        processed[key].append(mean.rename(rename_mean))"
   ]
  },
  {
   "cell_type": "markdown",
   "metadata": {},
   "source": [
    "#### 5. Save computed interim files"
   ]
  },
  {
   "cell_type": "code",
   "execution_count": null,
   "metadata": {},
   "outputs": [],
   "source": [
    "interim_path = \"../data/interim/\""
   ]
  },
  {
   "cell_type": "code",
   "execution_count": null,
   "metadata": {},
   "outputs": [],
   "source": [
    "for key in processed.keys():\n",
    "    ens = xr.merge(processed[key])\n",
    "    for data_var in ens.data_vars:\n",
    "        # Remove empty attribute that messes up to_zarr method\n",
    "        if 'intake_esm_varname' in ens[data_var].attrs:\n",
    "            del ens[data_var].attrs['intake_esm_varname']\n",
    "    \n",
    "    ens.to_zarr(interim_path + f\"{key}\", \"w\")"
   ]
  },
  {
   "cell_type": "markdown",
   "metadata": {},
   "source": [
    "### Pre-process observational data products"
   ]
  },
  {
   "cell_type": "code",
   "execution_count": null,
   "metadata": {},
   "outputs": [],
   "source": [
    "era5 = pp.load_era(\"../data/raw/reanalysis/ERA5_mon_2d.nc\", timeslice=timeslice, coarsen_size=2)"
   ]
  },
  {
   "cell_type": "code",
   "execution_count": null,
   "metadata": {},
   "outputs": [],
   "source": [
    "with warnings.catch_warnings():\n",
    "    warnings.simplefilter(\"ignore\", category=RuntimeWarning)\n",
    "    era_anom, era_clim, era_ann = util.compute_derived_variables(era5['tas'])\n",
    "    era_enso = util.pseudo_enso(era_anom).compute()"
   ]
  },
  {
   "cell_type": "code",
   "execution_count": null,
   "metadata": {},
   "outputs": [],
   "source": [
    "plt.figure(figsize=(12,8))\n",
    "for ensemble in enso.ensemble.values:\n",
    "    enso.sel(ensemble=ensemble).plot()\n",
    "    \n",
    "era_enso.plot(color=\"k\", lw=3)"
   ]
  },
  {
   "cell_type": "code",
   "execution_count": null,
   "metadata": {},
   "outputs": [],
   "source": [
    "xlims = [-1, enso.ensemble.size+1]\n",
    "plt.plot(np.arange(0, enso.ensemble.size), enso.std(dim='time', skipna=True))\n",
    "plt.plot(xlims, era_enso.std(dim='time', skipna=True).values * np.array([1., 1.]))\n",
    "plt.xticks(np.arange(0, enso.ensemble.size), enso.ensemble.values, rotation=90)\n",
    "plt.ylim([0, 1.5])\n",
    "plt.xlim(xlims)"
   ]
  },
  {
   "cell_type": "code",
   "execution_count": null,
   "metadata": {},
   "outputs": [],
   "source": [
    "era5.mean(dim='time', keep_attrs=True).to_zarr(interim_path + \"era5_timemean\", \"w\")"
   ]
  }
 ],
 "metadata": {
  "kernelspec": {
   "display_name": "cmip6hack-multigen",
   "language": "python",
   "name": "cmip6hack-multigen"
  },
  "language_info": {
   "codemirror_mode": {
    "name": "ipython",
    "version": 3
   },
   "file_extension": ".py",
   "mimetype": "text/x-python",
   "name": "python",
   "nbconvert_exporter": "python",
   "pygments_lexer": "ipython3",
   "version": "3.7.6"
  }
 },
 "nbformat": 4,
 "nbformat_minor": 4
}
