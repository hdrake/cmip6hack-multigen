{
 "cells": [
  {
   "cell_type": "markdown",
   "metadata": {},
   "source": [
    "### Instructions for activated the Jupyter kernel for the `cmip6hack-multigen` conda environment\n",
    "\n",
    "In a Jupyterlab terminal, navigate to the `/cmip6hack-multigen/` folder and run the command:\n",
    "```bash\n",
    "source spinup_env.sh\n",
    "```\n",
    "which will create the `cmip6hack-multigen` conda environment and install it as a python kernel for jupyter.\n",
    "\n",
    "Then, switch the kernel (drop-down menu in the top right hand corner) to cmip6hack-multigen and restart the notebook.\n",
    "\n",
    "### Pre-process climate model output in GCS\n",
    "\n",
    "This notebook uses [`intake-esm`](https://intake-esm.readthedocs.io/en/latest/) to ingest and organize climate model output from various model generations and resave their time-mean fields locally."
   ]
  },
  {
   "cell_type": "code",
   "execution_count": 27,
   "metadata": {},
   "outputs": [
    {
     "name": "stdout",
     "output_type": "stream",
     "text": [
      "The autoreload extension is already loaded. To reload it, use:\n",
      "  %reload_ext autoreload\n"
     ]
    }
   ],
   "source": [
    "%load_ext autoreload"
   ]
  },
  {
   "cell_type": "code",
   "execution_count": 28,
   "metadata": {},
   "outputs": [],
   "source": [
    "%autoreload 2"
   ]
  },
  {
   "cell_type": "code",
   "execution_count": 32,
   "metadata": {},
   "outputs": [],
   "source": [
    "import os\n",
    "import sys\n",
    "import numpy as np\n",
    "import pandas as pd\n",
    "import xarray as xr\n",
    "import xskillscore as xs\n",
    "import xesmf as xe\n",
    "from tqdm.autonotebook import tqdm  # Fancy progress bars for our loops!\n",
    "import intake\n",
    "# util.py is in the local directory\n",
    "# it contains code that is common across project notebooks\n",
    "# or routines that are too extensive and might otherwise clutter\n",
    "# the notebook design\n",
    "import util\n",
    "import preprocess as pp\n",
    "import qc"
   ]
  },
  {
   "cell_type": "code",
   "execution_count": 2,
   "metadata": {},
   "outputs": [],
   "source": [
    "varnames = ['tas', 'pr', 'psl']\n",
    "timeslice = slice('1981', '2010')"
   ]
  },
  {
   "cell_type": "code",
   "execution_count": 3,
   "metadata": {},
   "outputs": [
    {
     "data": {
      "application/vnd.jupyter.widget-view+json": {
       "model_id": "7bd09371c86040a09fad9c9b55f98a76",
       "version_major": 2,
       "version_minor": 0
      },
      "text/plain": [
       "HBox(children=(FloatProgress(value=0.0, max=6.0), HTML(value='')))"
      ]
     },
     "metadata": {},
     "output_type": "display_data"
    },
    {
     "name": "stdout",
     "output_type": "stream",
     "text": [
      "Loaded: variable_id ` tas ` from activity_id ` far `\n",
      "Loaded: variable_id ` pr ` from activity_id ` far `\n",
      "Loaded: variable_id ` psl ` from activity_id ` far `\n",
      "Loaded: variable_id ` tas ` from activity_id ` sar `\n",
      "Loaded: variable_id ` pr ` from activity_id ` sar `\n",
      "Loaded: variable_id ` psl ` from activity_id ` sar `\n",
      "Loaded: variable_id ` tas ` from activity_id ` tar `\n",
      "Skip TAR.MPIfM.MPIfM.historical.Amon.gn before datetime conflict.\n",
      "Loaded: variable_id ` pr ` from activity_id ` tar `\n",
      "Skip TAR.MPIfM.MPIfM.historical.Amon.gn before datetime conflict.\n",
      "Loaded: variable_id ` psl ` from activity_id ` tar `\n",
      "Skip TAR.MPIfM.MPIfM.historical.Amon.gn before datetime conflict.\n",
      "Loaded: variable_id ` tas ` from activity_id ` cmip3 `\n",
      "Skip CMIP3.CSIRO-QCCCE.csiro_mk3_5.historical.Amon.gn before datetime conflict.\n",
      "Loaded: variable_id ` pr ` from activity_id ` cmip3 `\n",
      "Skip CMIP3.CSIRO-QCCCE.csiro_mk3_5.historical.Amon.gn before datetime conflict.\n",
      "Loaded: variable_id ` psl ` from activity_id ` cmip3 `\n",
      "Loaded: variable_id ` tas ` from activity_id ` cmip5 `\n",
      "Loaded: variable_id ` pr ` from activity_id ` cmip5 `\n",
      "Skip CMIP5.ICHEC.EC-EARTH.historical.Amon.gn before datetime conflict.\n",
      "Loaded: variable_id ` psl ` from activity_id ` cmip5 `\n",
      "Loaded: variable_id ` tas ` from activity_id ` cmip6 `\n",
      "Loaded: variable_id ` pr ` from activity_id ` cmip6 `\n",
      "Loaded: variable_id ` psl ` from activity_id ` cmip6 `\n",
      "\n"
     ]
    },
    {
     "name": "stderr",
     "output_type": "stream",
     "text": [
      "/srv/conda/envs/cmip6hack-multigen/lib/python3.7/site-packages/dask/array/core.py:3908: PerformanceWarning: Increasing number of chunks by factor of 34\n",
      "  **blockwise_kwargs,\n"
     ]
    },
    {
     "data": {
      "text/plain": [
       "{'far': <xarray.Dataset>\n",
       " Dimensions:   (ensemble: 3, lat: 90, lon: 180, time: 3)\n",
       " Coordinates:\n",
       "   * time      (time) datetime64[ns] 1985-01-01 1995-01-01 2005-01-01\n",
       "   * lon       (lon) float64 1.0 3.0 5.0 7.0 9.0 ... 353.0 355.0 357.0 359.0\n",
       "   * lat       (lat) float64 -89.0 -87.0 -85.0 -83.0 ... 83.0 85.0 87.0 89.0\n",
       "   * ensemble  (ensemble) object 'UKTR-UKTR' 'GISS-GISS' 'GFDL-GFDL'\n",
       " Data variables:\n",
       "     tas       (ensemble, time, lat, lon) float64 dask.array<chunksize=(1, 3, 90, 180), meta=np.ndarray>\n",
       "     pr        (ensemble, time, lat, lon) float64 dask.array<chunksize=(1, 3, 90, 180), meta=np.ndarray>,\n",
       " 'sar': <xarray.Dataset>\n",
       " Dimensions:   (ensemble: 8, lat: 90, lon: 180, time: 360)\n",
       " Coordinates:\n",
       "   * ensemble  (ensemble) object 'CCSR-NIES-CCSR-NIES-01' ... 'CSIRO-CSIRO-01'\n",
       "   * time      (time) datetime64[ns] 1981-01-01 1981-02-01 ... 2010-12-01\n",
       "   * lon       (lon) float64 1.0 3.0 5.0 7.0 9.0 ... 353.0 355.0 357.0 359.0\n",
       "   * lat       (lat) float64 -89.0 -87.0 -85.0 -83.0 ... 83.0 85.0 87.0 89.0\n",
       " Data variables:\n",
       "     tas       (ensemble, time, lat, lon) float64 dask.array<chunksize=(1, 18, 90, 180), meta=np.ndarray>\n",
       "     pr        (ensemble, time, lat, lon) float64 dask.array<chunksize=(1, 18, 90, 180), meta=np.ndarray>\n",
       "     psl       (ensemble, time, lat, lon) float64 dask.array<chunksize=(1, 18, 90, 180), meta=np.ndarray>,\n",
       " 'tar': <xarray.Dataset>\n",
       " Dimensions:   (ensemble: 5, lat: 90, lon: 180, time: 360)\n",
       " Coordinates:\n",
       "   * ensemble  (ensemble) object 'GFDL-GFDL' ... 'CCSR-NIES-CCSR-NIES'\n",
       "   * time      (time) datetime64[ns] 1981-01-01 1981-02-01 ... 2010-12-01\n",
       "   * lon       (lon) float64 1.0 3.0 5.0 7.0 9.0 ... 353.0 355.0 357.0 359.0\n",
       "   * lat       (lat) float64 -89.0 -87.0 -85.0 -83.0 ... 83.0 85.0 87.0 89.0\n",
       " Data variables:\n",
       "     tas       (ensemble, time, lat, lon) float64 dask.array<chunksize=(1, 18, 90, 180), meta=np.ndarray>\n",
       "     pr        (ensemble, time, lat, lon) float64 dask.array<chunksize=(1, 18, 90, 180), meta=np.ndarray>\n",
       "     psl       (ensemble, time, lat, lon) float64 dask.array<chunksize=(2, 18, 90, 180), meta=np.ndarray>,\n",
       " 'cmip3': <xarray.Dataset>\n",
       " Dimensions:   (ensemble: 23, lat: 90, lon: 180, time: 360)\n",
       " Coordinates:\n",
       "   * ensemble  (ensemble) object 'INGV-ingv_echam4' ... 'NOAA-GFDL-gfdl_cm2_0'\n",
       "   * time      (time) datetime64[ns] 1981-01-01 1981-02-01 ... 2010-12-01\n",
       "   * lon       (lon) float64 1.0 3.0 5.0 7.0 9.0 ... 353.0 355.0 357.0 359.0\n",
       "   * lat       (lat) float64 -89.0 -87.0 -85.0 -83.0 ... 83.0 85.0 87.0 89.0\n",
       " Data variables:\n",
       "     tas       (ensemble, time, lat, lon) float64 dask.array<chunksize=(1, 18, 90, 180), meta=np.ndarray>\n",
       "     pr        (ensemble, time, lat, lon) float64 dask.array<chunksize=(1, 18, 90, 180), meta=np.ndarray>\n",
       "     psl       (ensemble, time, lat, lon) float64 dask.array<chunksize=(1, 18, 90, 180), meta=np.ndarray>,\n",
       " 'cmip5': <xarray.Dataset>\n",
       " Dimensions:   (ensemble: 48, lat: 90, lon: 180, time: 360)\n",
       " Coordinates:\n",
       "   * ensemble  (ensemble) object 'CCCMA-CanCM4' ... 'NOAA-GFDL-GFDL-ESM2G'\n",
       "   * time      (time) datetime64[ns] 1981-01-01 1981-02-01 ... 2010-12-01\n",
       "   * lon       (lon) float64 1.0 3.0 5.0 7.0 9.0 ... 353.0 355.0 357.0 359.0\n",
       "   * lat       (lat) float64 -89.0 -87.0 -85.0 -83.0 ... 83.0 85.0 87.0 89.0\n",
       " Data variables:\n",
       "     tas       (ensemble, time, lat, lon) float64 dask.array<chunksize=(1, 17, 90, 180), meta=np.ndarray>\n",
       "     pr        (ensemble, time, lat, lon) float64 dask.array<chunksize=(1, 17, 90, 180), meta=np.ndarray>\n",
       "     psl       (ensemble, time, lat, lon) float64 dask.array<chunksize=(1, 17, 90, 180), meta=np.ndarray>,\n",
       " 'cmip6': <xarray.Dataset>\n",
       " Dimensions:   (ensemble: 28, lat: 90, lon: 180, time: 360)\n",
       " Coordinates:\n",
       "   * ensemble  (ensemble) object 'CAS-FGOALS-g3' ... 'NCAR-CESM2-WACCM'\n",
       "   * time      (time) datetime64[ns] 1981-01-01 1981-02-01 ... 2010-12-01\n",
       "   * lon       (lon) float64 1.0 3.0 5.0 7.0 9.0 ... 353.0 355.0 357.0 359.0\n",
       "   * lat       (lat) float64 -89.0 -87.0 -85.0 -83.0 ... 83.0 85.0 87.0 89.0\n",
       " Data variables:\n",
       "     tas       (ensemble, time, lat, lon) float64 dask.array<chunksize=(1, 18, 90, 180), meta=np.ndarray>\n",
       "     pr        (ensemble, time, lat, lon) float64 dask.array<chunksize=(1, 18, 90, 180), meta=np.ndarray>\n",
       "     psl       (ensemble, time, lat, lon) float64 dask.array<chunksize=(1, 18, 90, 180), meta=np.ndarray>}"
      ]
     },
     "execution_count": 3,
     "metadata": {},
     "output_type": "execute_result"
    }
   ],
   "source": [
    "ens_dict = pp.load_ensembles(varnames, timeslice=timeslice)\n",
    "ens_dict"
   ]
  },
  {
   "cell_type": "markdown",
   "metadata": {},
   "source": [
    "#### Extracting time-mean"
   ]
  },
  {
   "cell_type": "code",
   "execution_count": 4,
   "metadata": {},
   "outputs": [
    {
     "data": {
      "application/vnd.jupyter.widget-view+json": {
       "model_id": "1fd7249ec8b74502b24bd9e48eb76e80",
       "version_major": 2,
       "version_minor": 0
      },
      "text/plain": [
       "HBox(children=(FloatProgress(value=0.0, max=6.0), HTML(value='')))"
      ]
     },
     "metadata": {},
     "output_type": "display_data"
    },
    {
     "name": "stdout",
     "output_type": "stream",
     "text": [
      "\n"
     ]
    }
   ],
   "source": [
    "ens_dict = util.dict_func(ens_dict, xr.Dataset.mean, on_self=True, dim =['time'], keep_attrs=True)"
   ]
  },
  {
   "cell_type": "code",
   "execution_count": 5,
   "metadata": {},
   "outputs": [
    {
     "data": {
      "application/vnd.jupyter.widget-view+json": {
       "model_id": "6d585a764b92491faa9914868eda9fa0",
       "version_major": 2,
       "version_minor": 0
      },
      "text/plain": [
       "HBox(children=(FloatProgress(value=0.0, max=6.0), HTML(value='')))"
      ]
     },
     "metadata": {},
     "output_type": "display_data"
    },
    {
     "name": "stderr",
     "output_type": "stream",
     "text": [
      "/srv/conda/envs/cmip6hack-multigen/lib/python3.7/site-packages/dask/array/numpy_compat.py:40: RuntimeWarning: invalid value encountered in true_divide\n",
      "  x = np.divide(x1, x2, out)\n",
      "/srv/conda/envs/cmip6hack-multigen/lib/python3.7/site-packages/dask/array/numpy_compat.py:40: RuntimeWarning: invalid value encountered in true_divide\n",
      "  x = np.divide(x1, x2, out)\n",
      "/srv/conda/envs/cmip6hack-multigen/lib/python3.7/site-packages/dask/array/numpy_compat.py:40: RuntimeWarning: invalid value encountered in true_divide\n",
      "  x = np.divide(x1, x2, out)\n"
     ]
    },
    {
     "name": "stdout",
     "output_type": "stream",
     "text": [
      "\n"
     ]
    }
   ],
   "source": [
    "ens_dict = util.dict_func(ens_dict, xr.Dataset.compute, on_self=True)"
   ]
  },
  {
   "cell_type": "markdown",
   "metadata": {},
   "source": [
    "#### Adding ensemble-mean to the ensemble"
   ]
  },
  {
   "cell_type": "code",
   "execution_count": 6,
   "metadata": {},
   "outputs": [],
   "source": [
    "ens_dict = util.add_ens_mean(ens_dict)"
   ]
  },
  {
   "cell_type": "code",
   "execution_count": 7,
   "metadata": {},
   "outputs": [
    {
     "data": {
      "text/plain": [
       "{'far': <xarray.Dataset>\n",
       " Dimensions:   (ensemble: 4, lat: 90, lon: 180)\n",
       " Coordinates:\n",
       "   * lat       (lat) float64 -89.0 -87.0 -85.0 -83.0 ... 83.0 85.0 87.0 89.0\n",
       "   * lon       (lon) float64 1.0 3.0 5.0 7.0 9.0 ... 353.0 355.0 357.0 359.0\n",
       "   * ensemble  (ensemble) object 'ens-mean' 'UKTR-UKTR' 'GISS-GISS' 'GFDL-GFDL'\n",
       " Data variables:\n",
       "     tas       (ensemble, lat, lon) float64 233.0 233.0 232.9 ... 257.8 257.8\n",
       "     pr        (ensemble, lat, lon) float64 7.9e-06 7.882e-06 ... 1.458e-05\n",
       " Attributes:\n",
       "     name:     far,\n",
       " 'sar': <xarray.Dataset>\n",
       " Dimensions:   (ensemble: 9, lat: 90, lon: 180)\n",
       " Coordinates:\n",
       "   * lat       (lat) float64 -89.0 -87.0 -85.0 -83.0 ... 83.0 85.0 87.0 89.0\n",
       "   * lon       (lon) float64 1.0 3.0 5.0 7.0 9.0 ... 353.0 355.0 357.0 359.0\n",
       "   * ensemble  (ensemble) object 'ens-mean' ... 'CSIRO-CSIRO-01'\n",
       " Data variables:\n",
       "     tas       (ensemble, lat, lon) float64 233.9 233.8 233.7 ... 258.9 258.9\n",
       "     pr        (ensemble, lat, lon) float64 8.34e-06 8.312e-06 ... 5.599e-06\n",
       "     psl       (ensemble, lat, lon) float64 1.004e+05 1.004e+05 ... 1.022e+05\n",
       " Attributes:\n",
       "     name:     sar,\n",
       " 'tar': <xarray.Dataset>\n",
       " Dimensions:   (ensemble: 6, lat: 90, lon: 180)\n",
       " Coordinates:\n",
       "   * lat       (lat) float64 -89.0 -87.0 -85.0 -83.0 ... 83.0 85.0 87.0 89.0\n",
       "   * lon       (lon) float64 1.0 3.0 5.0 7.0 9.0 ... 353.0 355.0 357.0 359.0\n",
       "   * ensemble  (ensemble) object 'ens-mean' 'GFDL-GFDL' ... 'CCSR-NIES-CCSR-NIES'\n",
       " Data variables:\n",
       "     tas       (ensemble, lat, lon) float64 232.5 232.4 232.3 ... 256.2 256.3\n",
       "     pr        (ensemble, lat, lon) float64 7.367e-06 7.332e-06 ... 9.889e-06\n",
       "     psl       (ensemble, lat, lon) float64 1.013e+05 1.013e+05 ... 1.015e+05\n",
       " Attributes:\n",
       "     name:     tar,\n",
       " 'cmip3': <xarray.Dataset>\n",
       " Dimensions:   (ensemble: 24, lat: 90, lon: 180)\n",
       " Coordinates:\n",
       "   * lat       (lat) float64 -89.0 -87.0 -85.0 -83.0 ... 83.0 85.0 87.0 89.0\n",
       "   * lon       (lon) float64 1.0 3.0 5.0 7.0 9.0 ... 353.0 355.0 357.0 359.0\n",
       "   * ensemble  (ensemble) object 'ens-mean' ... 'NOAA-GFDL-gfdl_cm2_0'\n",
       " Data variables:\n",
       "     tas       (ensemble, lat, lon) float64 228.3 228.2 228.2 ... 253.8 253.8\n",
       "     pr        (ensemble, lat, lon) float64 2.108e-06 2.103e-06 ... 6.261e-06\n",
       "     psl       (ensemble, lat, lon) float64 1.007e+05 1.007e+05 ... 1.022e+05\n",
       " Attributes:\n",
       "     name:     cmip3,\n",
       " 'cmip5': <xarray.Dataset>\n",
       " Dimensions:   (ensemble: 49, lat: 90, lon: 180)\n",
       " Coordinates:\n",
       "   * lat       (lat) float64 -89.0 -87.0 -85.0 -83.0 ... 83.0 85.0 87.0 89.0\n",
       "   * lon       (lon) float64 1.0 3.0 5.0 7.0 9.0 ... 353.0 355.0 357.0 359.0\n",
       "   * ensemble  (ensemble) object 'ens-mean' ... 'NOAA-GFDL-GFDL-ESM2G'\n",
       " Data variables:\n",
       "     tas       (ensemble, lat, lon) float64 228.0 228.0 227.9 ... 253.6 253.6\n",
       "     pr        (ensemble, lat, lon) float64 1.97e-06 1.965e-06 ... 4.995e-06\n",
       "     psl       (ensemble, lat, lon) float64 1.004e+05 1.004e+05 ... 1.02e+05\n",
       " Attributes:\n",
       "     name:     cmip5,\n",
       " 'cmip6': <xarray.Dataset>\n",
       " Dimensions:   (ensemble: 29, lat: 90, lon: 180)\n",
       " Coordinates:\n",
       "   * lat       (lat) float64 -89.0 -87.0 -85.0 -83.0 ... 83.0 85.0 87.0 89.0\n",
       "   * lon       (lon) float64 1.0 3.0 5.0 7.0 9.0 ... 353.0 355.0 357.0 359.0\n",
       "   * ensemble  (ensemble) object 'ens-mean' ... 'NCAR-CESM2-WACCM'\n",
       " Data variables:\n",
       "     tas       (ensemble, lat, lon) float64 227.6 227.5 227.5 ... 258.1 258.1\n",
       "     pr        (ensemble, lat, lon) float64 2.11e-06 2.103e-06 ... 7.192e-06\n",
       "     psl       (ensemble, lat, lon) float64 1e+05 1e+05 ... 1.014e+05 1.014e+05\n",
       " Attributes:\n",
       "     name:     cmip6}"
      ]
     },
     "execution_count": 7,
     "metadata": {},
     "output_type": "execute_result"
    }
   ],
   "source": [
    "ens_dict"
   ]
  },
  {
   "cell_type": "markdown",
   "metadata": {},
   "source": [
    "### Pre-process observational data products"
   ]
  },
  {
   "cell_type": "code",
   "execution_count": 44,
   "metadata": {},
   "outputs": [],
   "source": [
    "era5 = pp.load_era(\"../data/raw/reanalysis/ERA5_mon_2d.nc\", timeslice=timeslice, coarsen_size=2)"
   ]
  },
  {
   "cell_type": "markdown",
   "metadata": {},
   "source": [
    "### Save interim files"
   ]
  },
  {
   "cell_type": "code",
   "execution_count": 46,
   "metadata": {},
   "outputs": [
    {
     "data": {
      "text/plain": [
       "<xarray.backends.zarr.ZarrStore at 0x7f1d64d5b350>"
      ]
     },
     "execution_count": 46,
     "metadata": {},
     "output_type": "execute_result"
    }
   ],
   "source": [
    "interim_path = \"../data/interim/\"\n",
    "era5.to_zarr(interim_path + \"era5_timemean\")"
   ]
  },
  {
   "cell_type": "code",
   "execution_count": 47,
   "metadata": {},
   "outputs": [],
   "source": [
    "for key, ens in ens_dict.items():\n",
    "    ens.to_zarr(interim_path + f\"{key}_timemean\")"
   ]
  },
  {
   "cell_type": "code",
   "execution_count": null,
   "metadata": {},
   "outputs": [],
   "source": []
  }
 ],
 "metadata": {
  "kernelspec": {
   "display_name": "cmip6hack-multigen",
   "language": "python",
   "name": "cmip6hack-multigen"
  },
  "language_info": {
   "codemirror_mode": {
    "name": "ipython",
    "version": 3
   },
   "file_extension": ".py",
   "mimetype": "text/x-python",
   "name": "python",
   "nbconvert_exporter": "python",
   "pygments_lexer": "ipython3",
   "version": "3.7.6"
  }
 },
 "nbformat": 4,
 "nbformat_minor": 4
}
